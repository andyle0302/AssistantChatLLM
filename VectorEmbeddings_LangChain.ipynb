{
  "nbformat": 4,
  "nbformat_minor": 0,
  "metadata": {
    "colab": {
      "provenance": [],
      "collapsed_sections": [
        "ItBWjQbyThis",
        "rZLb__d6qka4",
        "RzSFf6bdsa5K"
      ],
      "include_colab_link": true
    },
    "kernelspec": {
      "name": "python3",
      "display_name": "Python 3"
    },
    "language_info": {
      "name": "python"
    }
  },
  "cells": [
    {
      "cell_type": "markdown",
      "metadata": {
        "id": "view-in-github",
        "colab_type": "text"
      },
      "source": [
        "<a href=\"https://colab.research.google.com/github/andyle0302/AssistantChatLLM/blob/main/VectorEmbeddings_LangChain.ipynb\" target=\"_parent\"><img src=\"https://colab.research.google.com/assets/colab-badge.svg\" alt=\"Open In Colab\"/></a>"
      ]
    },
    {
      "cell_type": "code",
      "source": [
        "api_key = \"\""
      ],
      "metadata": {
        "id": "64CLqrB1TLMr"
      },
      "execution_count": null,
      "outputs": []
    },
    {
      "cell_type": "markdown",
      "source": [
        "# Cài Đặt LangChain và ChromaDB"
      ],
      "metadata": {
        "id": "bSdtUXorS8_-"
      }
    },
    {
      "cell_type": "code",
      "execution_count": null,
      "metadata": {
        "colab": {
          "base_uri": "https://localhost:8080/"
        },
        "id": "IGVMd7cLRysQ",
        "outputId": "d090dff4-279b-4a3e-fd93-666094926870"
      },
      "outputs": [
        {
          "output_type": "stream",
          "name": "stdout",
          "text": [
            "\u001b[?25l     \u001b[90m━━━━━━━━━━━━━━━━━━━━━━━━━━━━━━━━━━━━━━━━\u001b[0m \u001b[32m0.0/286.1 kB\u001b[0m \u001b[31m?\u001b[0m eta \u001b[36m-:--:--\u001b[0m\r\u001b[2K     \u001b[91m━━━━━━━━\u001b[0m\u001b[91m╸\u001b[0m\u001b[90m━━━━━━━━━━━━━━━━━━━━━━━━━━━━━━━\u001b[0m \u001b[32m61.4/286.1 kB\u001b[0m \u001b[31m1.7 MB/s\u001b[0m eta \u001b[36m0:00:01\u001b[0m\r\u001b[2K     \u001b[90m━━━━━━━━━━━━━━━━━━━━━━━━━━━━━━━━━━━━━━━━\u001b[0m \u001b[32m286.1/286.1 kB\u001b[0m \u001b[31m4.3 MB/s\u001b[0m eta \u001b[36m0:00:00\u001b[0m\n",
            "\u001b[?25h"
          ]
        }
      ],
      "source": [
        "!pip install --quiet -U langchain chromadb langchain-openai pypdf"
      ]
    },
    {
      "cell_type": "markdown",
      "source": [
        "# Làm Quen với Embeddings và VectorStore"
      ],
      "metadata": {
        "id": "ItBWjQbyThis"
      }
    },
    {
      "cell_type": "code",
      "source": [
        "import bs4\n",
        "from langchain import hub\n",
        "from langchain.text_splitter import RecursiveCharacterTextSplitter\n",
        "from langchain_community.vectorstores import Chroma\n",
        "from langchain_openai import OpenAIEmbeddings\n",
        "from langchain_community.document_loaders import PyPDFLoader"
      ],
      "metadata": {
        "id": "mOAyuYUCSwdv"
      },
      "execution_count": null,
      "outputs": []
    },
    {
      "cell_type": "code",
      "source": [
        "embeddings_model = OpenAIEmbeddings(openai_api_key=api_key)\n",
        "\n",
        "sentence_list = [\"Xin chào\", \"Hello\", \"Con chó\", \"Biển Vũng Tàu\", \"Con mèo\", \"Miami Beach\"]\n",
        "embeddings = embeddings_model.embed_documents(sentence_list)"
      ],
      "metadata": {
        "id": "qD5zVBC1UP9Y"
      },
      "execution_count": null,
      "outputs": []
    },
    {
      "cell_type": "code",
      "source": [
        "import math\n",
        "\n",
        "def cosine_similarity(v1, v2):\n",
        "  \"\"\"\n",
        "  Tính toán độ tương đồng cosin giữa hai vector.\n",
        "\n",
        "  Args:\n",
        "      v1 (list): Vector thứ nhất.\n",
        "      v2 (list): Vector thứ hai.\n",
        "\n",
        "  Returns:\n",
        "      float: Độ tương đồng cosin giữa hai vector.\n",
        "  \"\"\"\n",
        "\n",
        "  # Tính tích vô hướng của hai vector.\n",
        "  dot_product = sum(a * b for a, b in zip(v1, v2))\n",
        "\n",
        "  # Tính độ dài của mỗi vector.\n",
        "  v1_length = math.sqrt(sum(a ** 2 for a in v1))\n",
        "  v2_length = math.sqrt(sum(a ** 2 for a in v2))\n",
        "\n",
        "  # Tránh trường hợp chia cho 0.\n",
        "  if v1_length == 0 or v2_length == 0:\n",
        "    return 0\n",
        "\n",
        "  # Tính độ tương đồng cosin.\n",
        "  similarity = dot_product / (v1_length * v2_length)\n",
        "\n",
        "  return similarity\n"
      ],
      "metadata": {
        "id": "exwlxVhZUkgy"
      },
      "execution_count": null,
      "outputs": []
    },
    {
      "cell_type": "code",
      "source": [
        "cosine_similarity(embeddings[1], embeddings[0])"
      ],
      "metadata": {
        "colab": {
          "base_uri": "https://localhost:8080/"
        },
        "id": "ruwbtdIHUxZ9",
        "outputId": "fc6f6cd3-e424-4f84-eeb4-b9f9a3b77781"
      },
      "execution_count": null,
      "outputs": [
        {
          "output_type": "execute_result",
          "data": {
            "text/plain": [
              "0.826886101378063"
            ]
          },
          "metadata": {},
          "execution_count": 73
        }
      ]
    },
    {
      "cell_type": "code",
      "source": [
        "cosine_similarity(embeddings[2], embeddings[3])"
      ],
      "metadata": {
        "colab": {
          "base_uri": "https://localhost:8080/"
        },
        "id": "tSYQLxU2U0hr",
        "outputId": "d397daeb-836d-4b0c-ba5a-59bed2cd9c30"
      },
      "execution_count": null,
      "outputs": [
        {
          "output_type": "execute_result",
          "data": {
            "text/plain": [
              "0.7865291393633301"
            ]
          },
          "metadata": {},
          "execution_count": 76
        }
      ]
    },
    {
      "cell_type": "code",
      "source": [
        "cosine_similarity(embeddings[3], embeddings[5])"
      ],
      "metadata": {
        "colab": {
          "base_uri": "https://localhost:8080/"
        },
        "id": "64AZawvuVAeC",
        "outputId": "2fa26a9b-eabb-48a6-e2ba-3086ed73423d"
      },
      "execution_count": null,
      "outputs": [
        {
          "output_type": "execute_result",
          "data": {
            "text/plain": [
              "0.7914768468934824"
            ]
          },
          "metadata": {},
          "execution_count": 77
        }
      ]
    },
    {
      "cell_type": "code",
      "source": [
        "len(embeddings[0])"
      ],
      "metadata": {
        "colab": {
          "base_uri": "https://localhost:8080/"
        },
        "id": "dcKKgOTznSRO",
        "outputId": "2182a2d5-6140-4e04-bfce-868d8f7e4e29"
      },
      "execution_count": null,
      "outputs": [
        {
          "output_type": "execute_result",
          "data": {
            "text/plain": [
              "1536"
            ]
          },
          "metadata": {},
          "execution_count": 51
        }
      ]
    },
    {
      "cell_type": "markdown",
      "source": [
        "# Quan Sát Trong Không Gian 2 Chiều"
      ],
      "metadata": {
        "id": "rZLb__d6qka4"
      }
    },
    {
      "cell_type": "code",
      "source": [
        "import numpy as np\n",
        "from sklearn.manifold import TSNE\n",
        "import matplotlib.pyplot as plt\n",
        "\n",
        "# Assuming `embeddings` is your dataset and `sentence_list` contains labels\n",
        "tsne = TSNE(n_components=2, perplexity=3, n_iter=1000)\n",
        "embeddings_2d_tsne = tsne.fit_transform(np.array(embeddings))\n",
        "\n",
        "# Create the scatter plot first\n",
        "plt.scatter(embeddings_2d_tsne[:, 0], embeddings_2d_tsne[:, 1])\n",
        "plt.title('t-SNE Reduction')\n",
        "\n",
        "# Then annotate each point with its label\n",
        "for i, label in enumerate(sentence_list):\n",
        "    plt.annotate(label,\n",
        "                 (embeddings_2d_tsne[i, 0], embeddings_2d_tsne[i, 1]),\n",
        "                 textcoords=\"offset points\",  # how to position the text\n",
        "                 xytext=(0,10),  # distance from text to points (x,y)\n",
        "                 ha='center')  # horizontal alignment can be left, right or center\n",
        "\n",
        "# Finally, show the plot\n",
        "plt.show()\n"
      ],
      "metadata": {
        "colab": {
          "base_uri": "https://localhost:8080/",
          "height": 452
        },
        "id": "mV6SM7hsVDAi",
        "outputId": "420c2d3b-980b-4381-9ba3-afd956022a39"
      },
      "execution_count": null,
      "outputs": [
        {
          "output_type": "display_data",
          "data": {
            "text/plain": [
              "<Figure size 640x480 with 1 Axes>"
            ],
            "image/png": "[encoded data removed]"
          },
          "metadata": {}
        }
      ]
    },
    {
      "cell_type": "code",
      "source": [],
      "metadata": {
        "id": "faY1gKUynt3U"
      },
      "execution_count": null,
      "outputs": []
    },
    {
      "cell_type": "markdown",
      "source": [
        "# Thực Hành: Mini RAG"
      ],
      "metadata": {
        "id": "RzSFf6bdsa5K"
      }
    },
    {
      "cell_type": "code",
      "source": [
        "rag_sentence = [\n",
        "    'Tổng thống Donald Trump trở thành ứng cử viên số một của Đảng Cộng Hoà trong cuộc tranh cử năm 2024.',\n",
        "    'Manchester United trải qua một mùa giải được coi là tạm chấp nhận được, họ không thể đòi hỏi gì hơn với những gì họ đang có hiện tại.',\n",
        "    'Tlinh trở thành ca sĩ trẻ nổi bật nhất của năm 2023 với những giải thưởng danh giá, đặc biệt là nghệ sĩ được yêu thích nhất trên Spotify tại Việt Nam.',\n",
        "    'Apple cho thấy sự vượt trội trong phát triển sản phẩm nhờ luôn mang lại được những trải nghiệm tuyệt vời cho người dùng.',\n",
        "    'Tết năm 2024 chứng kiến cảnh nhiều nhà vắng mặt những thành viên yêu quý vì chi phí quá cao và tình hình kinh tế suy sụp.'\n",
        "]\n",
        "\n",
        "rag_embed = embeddings_model.embed_documents(rag_sentence)"
      ],
      "metadata": {
        "id": "wX2xITiRsee4"
      },
      "execution_count": null,
      "outputs": []
    },
    {
      "cell_type": "code",
      "source": [
        "question = 'Ai là ứng cử viên số một của Đảng Cộng Hoà?'\n",
        "question_emb = embeddings_model.embed_query(question)"
      ],
      "metadata": {
        "id": "kAixBs1gtnnf"
      },
      "execution_count": null,
      "outputs": []
    },
    {
      "cell_type": "code",
      "source": [
        "def find_most_similar_sentence(question_emb, rag_sentence, rag_embed):\n",
        "  # return the sentence from rag_setence with the most similarity to question_emb\n",
        "  most_sim = 0\n",
        "  best_sentence = None\n",
        "  for i, sentence in enumerate(rag_sentence):\n",
        "    similarity = cosine_similarity(question_emb, rag_embed[i])\n",
        "    if most_sim < similarity:\n",
        "      most_sim = similarity\n",
        "      best_sentence = sentence\n",
        "  return best_sentence"
      ],
      "metadata": {
        "id": "RB7w73Q4t7L_"
      },
      "execution_count": null,
      "outputs": []
    },
    {
      "cell_type": "code",
      "source": [
        "best = find_most_similar_sentence(question_emb, rag_sentence, rag_embed)\n",
        "print(best)"
      ],
      "metadata": {
        "colab": {
          "base_uri": "https://localhost:8080/"
        },
        "id": "g4WCGR60u0K-",
        "outputId": "388b139e-9dc7-44b6-8458-a5db4d0f9eae"
      },
      "execution_count": null,
      "outputs": [
        {
          "output_type": "stream",
          "name": "stdout",
          "text": [
            "Tổng thống Donald Trump trở thành ứng cử viên số một của Đảng Cộng Hoà trong cuộc tranh cử năm 2024.\n"
          ]
        }
      ]
    },
    {
      "cell_type": "code",
      "source": [],
      "metadata": {
        "id": "pYAY1Z-Ou3G8"
      },
      "execution_count": null,
      "outputs": []
    }
  ]
}